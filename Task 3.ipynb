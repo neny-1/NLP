{
 "cells": [
  {
   "cell_type": "markdown",
   "id": "12abde74",
   "metadata": {},
   "source": [
    "# Task 3\n",
    "# By : Mohamed Khaled Abdelrahman\n",
    "# \"Minimum Edit Distance\" "
   ]
  },
  {
   "cell_type": "code",
   "execution_count": 6,
   "id": "d98e248d",
   "metadata": {},
   "outputs": [],
   "source": [
    "#If each operation has cost of 1\n",
    "def MED(sent_01, sent_02):\n",
    "    n = len(sent_01)\n",
    "    m = len(sent_02)\n",
    "\n",
    "    matrix = [[i+j for j in range(m+1)] for i in range(n+1)]\n",
    "\n",
    "    for i in range(1, n+1):\n",
    "        for j in range(1, m+1):\n",
    "            if sent_01[i-1] == sent_02[j-1]:\n",
    "                d = 0\n",
    "            else:\n",
    "                d = 1\n",
    "\n",
    "            matrix[i][j] = min(matrix[i-1][j]+1, matrix[i][j-1]+1, matrix[i-1][j-1]+d)\n",
    "\n",
    "    distance_score = matrix[n][m]\n",
    "   \n",
    "    return distance_score"
   ]
  },
  {
   "cell_type": "code",
   "execution_count": 7,
   "id": "1663edf2",
   "metadata": {},
   "outputs": [],
   "source": [
    "str1='INTENTION'\n",
    "str2='EXECUTION'"
   ]
  },
  {
   "cell_type": "code",
   "execution_count": 8,
   "id": "57e392b4",
   "metadata": {},
   "outputs": [
    {
     "data": {
      "text/plain": [
       "5"
      ]
     },
     "execution_count": 8,
     "metadata": {},
     "output_type": "execute_result"
    }
   ],
   "source": [
    "distance_score = MED(str1,str2)\n",
    "distance_score"
   ]
  }
 ],
 "metadata": {
  "kernelspec": {
   "display_name": "Python 3",
   "language": "python",
   "name": "python3"
  },
  "language_info": {
   "codemirror_mode": {
    "name": "ipython",
    "version": 3
   },
   "file_extension": ".py",
   "mimetype": "text/x-python",
   "name": "python",
   "nbconvert_exporter": "python",
   "pygments_lexer": "ipython3",
   "version": "3.8.8"
  }
 },
 "nbformat": 4,
 "nbformat_minor": 5
}
