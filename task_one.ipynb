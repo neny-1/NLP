{
 "cells": [
  {
   "cell_type": "markdown",
   "id": "8f361e0d",
   "metadata": {},
   "source": [
    "# Task 1\n",
    "# By : Mohamed Khaled Abdelrahman"
   ]
  },
  {
   "cell_type": "code",
   "execution_count": 7,
   "id": "463b10d9",
   "metadata": {},
   "outputs": [],
   "source": [
    "import re"
   ]
  },
  {
   "cell_type": "code",
   "execution_count": 165,
   "id": "65c0da45",
   "metadata": {},
   "outputs": [],
   "source": [
    "# conda install -c conda-forge pypdf2 =>to install PyPDF2 => instead of => pip install  PyPDF2 "
   ]
  },
  {
   "cell_type": "code",
   "execution_count": 166,
   "id": "11f6a079",
   "metadata": {},
   "outputs": [],
   "source": [
    "import PyPDF2"
   ]
  },
  {
   "cell_type": "code",
   "execution_count": 167,
   "id": "a43cd0cb",
   "metadata": {},
   "outputs": [],
   "source": [
    "my_pdf = open('Elneny.pdf','rb')\n",
    "\n",
    "# Open the pdf file\n",
    "object = PyPDF2.PdfFileReader(my_pdf)"
   ]
  },
  {
   "cell_type": "code",
   "execution_count": 168,
   "id": "416afca1",
   "metadata": {},
   "outputs": [
    {
     "data": {
      "text/plain": [
       "0"
      ]
     },
     "execution_count": 168,
     "metadata": {},
     "output_type": "execute_result"
    }
   ],
   "source": [
    "my_pdf.seek(0)"
   ]
  },
  {
   "cell_type": "code",
   "execution_count": 169,
   "id": "1a298da1",
   "metadata": {},
   "outputs": [],
   "source": [
    "# Get number of pages\n",
    "NumPages = pdf_reader.numPages\n"
   ]
  },
  {
   "cell_type": "code",
   "execution_count": 170,
   "id": "6ce279b2",
   "metadata": {},
   "outputs": [
    {
     "name": "stdout",
     "output_type": "stream",
     "text": [
      "First Pattern Found on Page: 0\n",
      "match (22, 28) in page  0\n",
      "First Pattern Found on Page: 1\n",
      "match (144, 150) in page  1\n",
      "First Pattern Found on Page: 2\n",
      "match (8, 14) in page  2\n",
      "First Pattern Found on Page: 3\n",
      "match (132, 138) in page  3\n"
     ]
    }
   ],
   "source": [
    "# the word to search \n",
    "String = \"Elneny\"\n",
    "\n",
    "# Extract text and do the search\n",
    "for i in range(0, NumPages):\n",
    "    PageObj = object.getPage(i)\n",
    "    Text = PageObj.extractText()\n",
    "    if re.search(String,Text):\n",
    "        match = re.search(String,Text)\n",
    "        print(\"First Pattern Found on Page: \" + str(i))\n",
    "        print(\"match\",match.span(),\"in page \",str(i))\n",
    "        matches = re.findall(String,PageObj.extractText())\n",
    "        \n",
    "        "
   ]
  },
  {
   "cell_type": "code",
   "execution_count": 171,
   "id": "fe643596",
   "metadata": {},
   "outputs": [
    {
     "data": {
      "text/plain": [
       "10"
      ]
     },
     "execution_count": 171,
     "metadata": {},
     "output_type": "execute_result"
    }
   ],
   "source": [
    "#find how many the word Elneny found in page 1\n",
    "page1 = object.getPage(0).extractText()\n",
    "page1\n",
    "match=re.findall(String,page1)\n",
    "len(match)"
   ]
  },
  {
   "cell_type": "code",
   "execution_count": 172,
   "id": "a8ea582e",
   "metadata": {},
   "outputs": [
    {
     "data": {
      "text/plain": [
       "8"
      ]
     },
     "execution_count": 172,
     "metadata": {},
     "output_type": "execute_result"
    }
   ],
   "source": [
    "#find how many the word Elneny found in page 2\n",
    "page2 = object.getPage(1).extractText()\n",
    "page2\n",
    "match=re.findall(String,page2)\n",
    "len(match)"
   ]
  },
  {
   "cell_type": "code",
   "execution_count": 173,
   "id": "f5b5c235",
   "metadata": {},
   "outputs": [
    {
     "data": {
      "text/plain": [
       "14"
      ]
     },
     "execution_count": 173,
     "metadata": {},
     "output_type": "execute_result"
    }
   ],
   "source": [
    "#find how many the word Elneny found in page 3\n",
    "page3 = object.getPage(2).extractText()\n",
    "page3\n",
    "match=re.findall(String,page3)\n",
    "len(match)"
   ]
  },
  {
   "cell_type": "code",
   "execution_count": 174,
   "id": "4ab9e6ce",
   "metadata": {},
   "outputs": [
    {
     "data": {
      "text/plain": [
       "9"
      ]
     },
     "execution_count": 174,
     "metadata": {},
     "output_type": "execute_result"
    }
   ],
   "source": [
    "#find how many the word Elneny found in page 4\n",
    "page4 = object.getPage(3).extractText()\n",
    "page4\n",
    "match=re.findall(String,page4)\n",
    "len(match)"
   ]
  },
  {
   "cell_type": "code",
   "execution_count": 175,
   "id": "a484381e",
   "metadata": {},
   "outputs": [
    {
     "data": {
      "text/plain": [
       "0"
      ]
     },
     "execution_count": 175,
     "metadata": {},
     "output_type": "execute_result"
    }
   ],
   "source": [
    "#find how many the word Elneny found in page 5\n",
    "page5 = object.getPage(4).extractText()\n",
    "page5\n",
    "match=re.findall(String,page5)\n",
    "len(match)"
   ]
  },
  {
   "cell_type": "code",
   "execution_count": 176,
   "id": "a675116b",
   "metadata": {},
   "outputs": [
    {
     "name": "stdout",
     "output_type": "stream",
     "text": [
      "number of word Elneny =  41\n"
     ]
    }
   ],
   "source": [
    "#find how many the word Elneny in all pages\n",
    "Word_num=0\n",
    "for i in range(0,NumPages):\n",
    "    Page = object.getPage(i)\n",
    "    Page_text = Page.extractText()\n",
    "    match=re.findall(String,Page_text)\n",
    "    Word_num=Word_num+len(match)\n",
    "print(\"number of word Elneny = \",Word_num)"
   ]
  },
  {
   "cell_type": "code",
   "execution_count": 177,
   "id": "fa13fe5a",
   "metadata": {},
   "outputs": [],
   "source": [
    "#make new document with firest page of the main document\n",
    "first_page = object.getPage(0)\n",
    "first_page.extractText()\n",
    "pdf_writer = PyPDF2.PdfFileWriter()\n",
    "pdf_writer.addPage(first_page)"
   ]
  },
  {
   "cell_type": "code",
   "execution_count": 178,
   "id": "49c8ba43",
   "metadata": {},
   "outputs": [],
   "source": [
    "pdf_output = open(\"page1.pdf\",\"wb\")\n",
    "pdf_writer.write(pdf_output)\n",
    "pdf_output.close()"
   ]
  },
  {
   "cell_type": "code",
   "execution_count": 179,
   "id": "ce290e13",
   "metadata": {},
   "outputs": [],
   "source": [
    "#make new document with second page of the main document\n",
    "first_page = object.getPage(1)\n",
    "first_page.extractText()\n",
    "pdf_writer = PyPDF2.PdfFileWriter()\n",
    "pdf_writer.addPage(first_page)"
   ]
  },
  {
   "cell_type": "code",
   "execution_count": 180,
   "id": "f7336544",
   "metadata": {},
   "outputs": [],
   "source": [
    "pdf_output = open(\"page2.pdf\",\"wb\")\n",
    "pdf_writer.write(pdf_output)\n",
    "pdf_output.close()"
   ]
  }
 ],
 "metadata": {
  "kernelspec": {
   "display_name": "Python 3",
   "language": "python",
   "name": "python3"
  },
  "language_info": {
   "codemirror_mode": {
    "name": "ipython",
    "version": 3
   },
   "file_extension": ".py",
   "mimetype": "text/x-python",
   "name": "python",
   "nbconvert_exporter": "python",
   "pygments_lexer": "ipython3",
   "version": "3.8.8"
  }
 },
 "nbformat": 4,
 "nbformat_minor": 5
}
