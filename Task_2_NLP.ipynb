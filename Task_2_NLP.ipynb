{
  "nbformat": 4,
  "nbformat_minor": 0,
  "metadata": {
    "colab": {
      "name": "Task 2 NLP.ipynb",
      "provenance": []
    },
    "kernelspec": {
      "name": "python3",
      "display_name": "Python 3"
    },
    "language_info": {
      "name": "python"
    }
  },
  "cells": [
    {
      "cell_type": "code",
      "source": [
        "import nltk"
      ],
      "metadata": {
        "id": "lm5L61Z5bmp-"
      },
      "execution_count": 4,
      "outputs": []
    },
    {
      "cell_type": "code",
      "source": [
        "from nltk.stem.porter import*"
      ],
      "metadata": {
        "id": "q3JNFPclbeZu"
      },
      "execution_count": 5,
      "outputs": []
    },
    {
      "cell_type": "code",
      "source": [
        "p_stemmer = PorterStemmer() \n"
      ],
      "metadata": {
        "id": "eCK5Z3U1b-Pv"
      },
      "execution_count": 6,
      "outputs": []
    },
    {
      "cell_type": "code",
      "source": [
        "words = ['walk','walker','walking','walked','walks','smoothly'] \n",
        "for word in words: \n",
        " print(word+' --> '+p_stemmer.stem(word))"
      ],
      "metadata": {
        "colab": {
          "base_uri": "https://localhost:8080/"
        },
        "id": "cbXaBlHqcAHz",
        "outputId": "317312d3-81d7-4e47-888a-3963203a125f"
      },
      "execution_count": 32,
      "outputs": [
        {
          "output_type": "stream",
          "name": "stdout",
          "text": [
            "walk --> walk\n",
            "walker --> walker\n",
            "walking --> walk\n",
            "walked --> walk\n",
            "walks --> walk\n",
            "smoothly --> smoothli\n"
          ]
        }
      ]
    },
    {
      "cell_type": "code",
      "source": [
        "from nltk.stem.snowball import SnowballStemmer \n",
        "s_stemmer = SnowballStemmer(language='english') \n",
        "for word in words: \n",
        " print(word+' --> '+s_stemmer.stem(word)) "
      ],
      "metadata": {
        "colab": {
          "base_uri": "https://localhost:8080/"
        },
        "id": "BlxzuAO7cEoH",
        "outputId": "df053a32-cb18-4e41-c211-73e2fc4f4e38"
      },
      "execution_count": 33,
      "outputs": [
        {
          "output_type": "stream",
          "name": "stdout",
          "text": [
            "walk --> walk\n",
            "walker --> walker\n",
            "walking --> walk\n",
            "walked --> walk\n",
            "walks --> walk\n",
            "smoothly --> smooth\n"
          ]
        }
      ]
    },
    {
      "cell_type": "code",
      "source": [
        "words = ['create','creator','creation','creates','creating'] \n",
        "for word in words: \n",
        " print(word+' --> '+s_stemmer.stem(word))"
      ],
      "metadata": {
        "colab": {
          "base_uri": "https://localhost:8080/"
        },
        "id": "qD5LXQCTcRUG",
        "outputId": "fe0df79d-ea5d-42fa-d295-ad1daf7c7863"
      },
      "execution_count": 34,
      "outputs": [
        {
          "output_type": "stream",
          "name": "stdout",
          "text": [
            "create --> creat\n",
            "creator --> creator\n",
            "creation --> creation\n",
            "creates --> creat\n",
            "creating --> creat\n"
          ]
        }
      ]
    },
    {
      "cell_type": "code",
      "source": [
        "from nltk.stem import PorterStemmer , LancasterStemmer \n",
        "from nltk.tokenize import sent_tokenize, word_tokenize \n",
        "porter = PorterStemmer() \n",
        "lancaster = LancasterStemmer()"
      ],
      "metadata": {
        "id": "5UekvRQCcXq4"
      },
      "execution_count": 36,
      "outputs": []
    },
    {
      "cell_type": "code",
      "source": [
        "words = [\"is\",\"was\",\"be\",\"been\",\"are\",\"were\"] \n",
        "for w in words: \n",
        " print(porter.stem(w))"
      ],
      "metadata": {
        "colab": {
          "base_uri": "https://localhost:8080/"
        },
        "id": "X7c7EaqUceYL",
        "outputId": "11e0c7e5-2b35-42a4-83ef-ba6c9a75747b"
      },
      "execution_count": 38,
      "outputs": [
        {
          "output_type": "stream",
          "name": "stdout",
          "text": [
            "is\n",
            "wa\n",
            "be\n",
            "been\n",
            "are\n",
            "were\n"
          ]
        }
      ]
    },
    {
      "cell_type": "code",
      "source": [
        "for w in words: \n",
        " print(lancaster.stem(w))"
      ],
      "metadata": {
        "colab": {
          "base_uri": "https://localhost:8080/"
        },
        "id": "ckAPrOzqcmSX",
        "outputId": "8be07c40-6dbe-430d-fce7-df6093e113fb"
      },
      "execution_count": 39,
      "outputs": [
        {
          "output_type": "stream",
          "name": "stdout",
          "text": [
            "is\n",
            "was\n",
            "be\n",
            "been\n",
            "ar\n",
            "wer\n"
          ]
        }
      ]
    },
    {
      "cell_type": "code",
      "source": [
        "words = [\"sale\",\"selling\",\"sold\",\"sales\",\"saler\"] \n",
        "for w in words: \n",
        " print(porter.stem(w))"
      ],
      "metadata": {
        "colab": {
          "base_uri": "https://localhost:8080/"
        },
        "id": "Es_E01mScopq",
        "outputId": "f88ade40-0ea4-4e56-e764-a377bf1b3592"
      },
      "execution_count": 40,
      "outputs": [
        {
          "output_type": "stream",
          "name": "stdout",
          "text": [
            "sale\n",
            "sell\n",
            "sold\n",
            "sale\n",
            "saler\n"
          ]
        }
      ]
    },
    {
      "cell_type": "code",
      "source": [
        "for w in words: \n",
        " print(lancaster.stem(w)) \n"
      ],
      "metadata": {
        "colab": {
          "base_uri": "https://localhost:8080/"
        },
        "id": "JemqdEdJcuIc",
        "outputId": "a20e3c03-7e30-42c2-9647-72fe7dba825f"
      },
      "execution_count": 41,
      "outputs": [
        {
          "output_type": "stream",
          "name": "stdout",
          "text": [
            "sal\n",
            "sel\n",
            "sold\n",
            "sal\n",
            "sal\n"
          ]
        }
      ]
    },
    {
      "cell_type": "code",
      "source": [
        "nltk.download('punkt')\n"
      ],
      "metadata": {
        "colab": {
          "base_uri": "https://localhost:8080/"
        },
        "id": "dFZkJNWydRml",
        "outputId": "8e122e66-d732-4640-80a4-dbc71bd1cc8b"
      },
      "execution_count": 42,
      "outputs": [
        {
          "output_type": "stream",
          "name": "stdout",
          "text": [
            "[nltk_data] Downloading package punkt to /root/nltk_data...\n",
            "[nltk_data]   Package punkt is already up-to-date!\n"
          ]
        },
        {
          "output_type": "execute_result",
          "data": {
            "text/plain": [
              "True"
            ]
          },
          "metadata": {},
          "execution_count": 42
        }
      ]
    },
    {
      "cell_type": "code",
      "source": [
        "sentence = 'As more and more artificial intelligence is entering into the world, more and more emotional intelligence must enter into leadership.'"
      ],
      "metadata": {
        "id": "ZsDCwxmVc1R1"
      },
      "execution_count": 43,
      "outputs": []
    },
    {
      "cell_type": "code",
      "source": [
        "words = word_tokenize(sentence) "
      ],
      "metadata": {
        "id": "A6mjGtxzc71R"
      },
      "execution_count": 44,
      "outputs": []
    },
    {
      "cell_type": "code",
      "source": [
        "for w in words: \n",
        " print(porter.stem(w))"
      ],
      "metadata": {
        "colab": {
          "base_uri": "https://localhost:8080/"
        },
        "id": "x9G2c4hqdDc1",
        "outputId": "5ec3b483-18db-4bc9-92e7-e3487dbde8a4"
      },
      "execution_count": 45,
      "outputs": [
        {
          "output_type": "stream",
          "name": "stdout",
          "text": [
            "As\n",
            "more\n",
            "and\n",
            "more\n",
            "artifici\n",
            "intellig\n",
            "is\n",
            "enter\n",
            "into\n",
            "the\n",
            "world\n",
            ",\n",
            "more\n",
            "and\n",
            "more\n",
            "emot\n",
            "intellig\n",
            "must\n",
            "enter\n",
            "into\n",
            "leadership\n",
            ".\n"
          ]
        }
      ]
    },
    {
      "cell_type": "code",
      "source": [
        "for w in words: \n",
        " print(lancaster.stem(w))"
      ],
      "metadata": {
        "colab": {
          "base_uri": "https://localhost:8080/"
        },
        "id": "58-0ZE9-dcpv",
        "outputId": "ef1f5733-c87f-4af0-9c4f-706b48f2943e"
      },
      "execution_count": 47,
      "outputs": [
        {
          "output_type": "stream",
          "name": "stdout",
          "text": [
            "as\n",
            "mor\n",
            "and\n",
            "mor\n",
            "art\n",
            "intellig\n",
            "is\n",
            "ent\n",
            "into\n",
            "the\n",
            "world\n",
            ",\n",
            "mor\n",
            "and\n",
            "mor\n",
            "emot\n",
            "intellig\n",
            "must\n",
            "ent\n",
            "into\n",
            "lead\n",
            ".\n"
          ]
        }
      ]
    }
  ]
}