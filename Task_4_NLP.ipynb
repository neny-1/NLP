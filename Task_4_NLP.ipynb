{
 "cells": [
  {
   "cell_type": "markdown",
   "metadata": {
    "id": "lm5L61Z5bmp-"
   },
   "source": [
    "# Task 2\n",
    "# Mohamed Khaled Abdelrahman"
   ]
  },
  {
   "cell_type": "code",
   "execution_count": null,
   "metadata": {},
   "outputs": [],
   "source": [
    "import nltk"
   ]
  },
  {
   "cell_type": "code",
   "execution_count": 5,
   "metadata": {
    "id": "q3JNFPclbeZu"
   },
   "outputs": [],
   "source": [
    "from nltk.stem.porter import*"
   ]
  },
  {
   "cell_type": "code",
   "execution_count": 6,
   "metadata": {
    "id": "eCK5Z3U1b-Pv"
   },
   "outputs": [],
   "source": [
    "p_stemmer = PorterStemmer() \n"
   ]
  },
  {
   "cell_type": "code",
   "execution_count": 32,
   "metadata": {
    "colab": {
     "base_uri": "https://localhost:8080/"
    },
    "id": "cbXaBlHqcAHz",
    "outputId": "317312d3-81d7-4e47-888a-3963203a125f"
   },
   "outputs": [
    {
     "name": "stdout",
     "output_type": "stream",
     "text": [
      "walk --> walk\n",
      "walker --> walker\n",
      "walking --> walk\n",
      "walked --> walk\n",
      "walks --> walk\n",
      "smoothly --> smoothli\n"
     ]
    }
   ],
   "source": [
    "words = ['walk','walker','walking','walked','walks','smoothly'] \n",
    "for word in words: \n",
    " print(word+' --> '+p_stemmer.stem(word))"
   ]
  },
  {
   "cell_type": "code",
   "execution_count": 33,
   "metadata": {
    "colab": {
     "base_uri": "https://localhost:8080/"
    },
    "id": "BlxzuAO7cEoH",
    "outputId": "df053a32-cb18-4e41-c211-73e2fc4f4e38"
   },
   "outputs": [
    {
     "name": "stdout",
     "output_type": "stream",
     "text": [
      "walk --> walk\n",
      "walker --> walker\n",
      "walking --> walk\n",
      "walked --> walk\n",
      "walks --> walk\n",
      "smoothly --> smooth\n"
     ]
    }
   ],
   "source": [
    "from nltk.stem.snowball import SnowballStemmer \n",
    "s_stemmer = SnowballStemmer(language='english') \n",
    "for word in words: \n",
    " print(word+' --> '+s_stemmer.stem(word)) "
   ]
  },
  {
   "cell_type": "code",
   "execution_count": 34,
   "metadata": {
    "colab": {
     "base_uri": "https://localhost:8080/"
    },
    "id": "qD5LXQCTcRUG",
    "outputId": "fe0df79d-ea5d-42fa-d295-ad1daf7c7863"
   },
   "outputs": [
    {
     "name": "stdout",
     "output_type": "stream",
     "text": [
      "create --> creat\n",
      "creator --> creator\n",
      "creation --> creation\n",
      "creates --> creat\n",
      "creating --> creat\n"
     ]
    }
   ],
   "source": [
    "words = ['create','creator','creation','creates','creating'] \n",
    "for word in words: \n",
    " print(word+' --> '+s_stemmer.stem(word))"
   ]
  },
  {
   "cell_type": "code",
   "execution_count": 36,
   "metadata": {
    "id": "5UekvRQCcXq4"
   },
   "outputs": [],
   "source": [
    "from nltk.stem import PorterStemmer , LancasterStemmer \n",
    "from nltk.tokenize import sent_tokenize, word_tokenize \n",
    "porter = PorterStemmer() \n",
    "lancaster = LancasterStemmer()"
   ]
  },
  {
   "cell_type": "code",
   "execution_count": 38,
   "metadata": {
    "colab": {
     "base_uri": "https://localhost:8080/"
    },
    "id": "X7c7EaqUceYL",
    "outputId": "11e0c7e5-2b35-42a4-83ef-ba6c9a75747b"
   },
   "outputs": [
    {
     "name": "stdout",
     "output_type": "stream",
     "text": [
      "is\n",
      "wa\n",
      "be\n",
      "been\n",
      "are\n",
      "were\n"
     ]
    }
   ],
   "source": [
    "words = [\"is\",\"was\",\"be\",\"been\",\"are\",\"were\"] \n",
    "for w in words: \n",
    " print(porter.stem(w))"
   ]
  },
  {
   "cell_type": "code",
   "execution_count": 39,
   "metadata": {
    "colab": {
     "base_uri": "https://localhost:8080/"
    },
    "id": "ckAPrOzqcmSX",
    "outputId": "8be07c40-6dbe-430d-fce7-df6093e113fb"
   },
   "outputs": [
    {
     "name": "stdout",
     "output_type": "stream",
     "text": [
      "is\n",
      "was\n",
      "be\n",
      "been\n",
      "ar\n",
      "wer\n"
     ]
    }
   ],
   "source": [
    "for w in words: \n",
    " print(lancaster.stem(w))"
   ]
  },
  {
   "cell_type": "code",
   "execution_count": 40,
   "metadata": {
    "colab": {
     "base_uri": "https://localhost:8080/"
    },
    "id": "Es_E01mScopq",
    "outputId": "f88ade40-0ea4-4e56-e764-a377bf1b3592"
   },
   "outputs": [
    {
     "name": "stdout",
     "output_type": "stream",
     "text": [
      "sale\n",
      "sell\n",
      "sold\n",
      "sale\n",
      "saler\n"
     ]
    }
   ],
   "source": [
    "words = [\"sale\",\"selling\",\"sold\",\"sales\",\"saler\"] \n",
    "for w in words: \n",
    " print(porter.stem(w))"
   ]
  },
  {
   "cell_type": "code",
   "execution_count": 41,
   "metadata": {
    "colab": {
     "base_uri": "https://localhost:8080/"
    },
    "id": "JemqdEdJcuIc",
    "outputId": "a20e3c03-7e30-42c2-9647-72fe7dba825f"
   },
   "outputs": [
    {
     "name": "stdout",
     "output_type": "stream",
     "text": [
      "sal\n",
      "sel\n",
      "sold\n",
      "sal\n",
      "sal\n"
     ]
    }
   ],
   "source": [
    "for w in words: \n",
    " print(lancaster.stem(w)) \n"
   ]
  },
  {
   "cell_type": "code",
   "execution_count": 42,
   "metadata": {
    "colab": {
     "base_uri": "https://localhost:8080/"
    },
    "id": "dFZkJNWydRml",
    "outputId": "8e122e66-d732-4640-80a4-dbc71bd1cc8b"
   },
   "outputs": [
    {
     "name": "stdout",
     "output_type": "stream",
     "text": [
      "[nltk_data] Downloading package punkt to /root/nltk_data...\n",
      "[nltk_data]   Package punkt is already up-to-date!\n"
     ]
    },
    {
     "data": {
      "text/plain": [
       "True"
      ]
     },
     "execution_count": 42,
     "metadata": {},
     "output_type": "execute_result"
    }
   ],
   "source": [
    "nltk.download('punkt')\n"
   ]
  },
  {
   "cell_type": "code",
   "execution_count": 43,
   "metadata": {
    "id": "ZsDCwxmVc1R1"
   },
   "outputs": [],
   "source": [
    "sentence = 'As more and more artificial intelligence is entering into the world, more and more emotional intelligence must enter into leadership.'"
   ]
  },
  {
   "cell_type": "code",
   "execution_count": 44,
   "metadata": {
    "id": "A6mjGtxzc71R"
   },
   "outputs": [],
   "source": [
    "words = word_tokenize(sentence) "
   ]
  },
  {
   "cell_type": "code",
   "execution_count": 45,
   "metadata": {
    "colab": {
     "base_uri": "https://localhost:8080/"
    },
    "id": "x9G2c4hqdDc1",
    "outputId": "5ec3b483-18db-4bc9-92e7-e3487dbde8a4"
   },
   "outputs": [
    {
     "name": "stdout",
     "output_type": "stream",
     "text": [
      "As\n",
      "more\n",
      "and\n",
      "more\n",
      "artifici\n",
      "intellig\n",
      "is\n",
      "enter\n",
      "into\n",
      "the\n",
      "world\n",
      ",\n",
      "more\n",
      "and\n",
      "more\n",
      "emot\n",
      "intellig\n",
      "must\n",
      "enter\n",
      "into\n",
      "leadership\n",
      ".\n"
     ]
    }
   ],
   "source": [
    "for w in words: \n",
    " print(porter.stem(w))"
   ]
  },
  {
   "cell_type": "code",
   "execution_count": 47,
   "metadata": {
    "colab": {
     "base_uri": "https://localhost:8080/"
    },
    "id": "58-0ZE9-dcpv",
    "outputId": "ef1f5733-c87f-4af0-9c4f-706b48f2943e"
   },
   "outputs": [
    {
     "name": "stdout",
     "output_type": "stream",
     "text": [
      "as\n",
      "mor\n",
      "and\n",
      "mor\n",
      "art\n",
      "intellig\n",
      "is\n",
      "ent\n",
      "into\n",
      "the\n",
      "world\n",
      ",\n",
      "mor\n",
      "and\n",
      "mor\n",
      "emot\n",
      "intellig\n",
      "must\n",
      "ent\n",
      "into\n",
      "lead\n",
      ".\n"
     ]
    }
   ],
   "source": [
    "for w in words: \n",
    " print(lancaster.stem(w))"
   ]
  }
 ],
 "metadata": {
  "colab": {
   "name": "Task 2 NLP.ipynb",
   "provenance": []
  },
  "kernelspec": {
   "display_name": "Python 3",
   "language": "python",
   "name": "python3"
  },
  "language_info": {
   "codemirror_mode": {
    "name": "ipython",
    "version": 3
   },
   "file_extension": ".py",
   "mimetype": "text/x-python",
   "name": "python",
   "nbconvert_exporter": "python",
   "pygments_lexer": "ipython3",
   "version": "3.8.8"
  }
 },
 "nbformat": 4,
 "nbformat_minor": 1
}
